{
 "cells": [
  {
   "cell_type": "code",
   "execution_count": 1,
   "metadata": {},
   "outputs": [],
   "source": [
    "import numpy as np\n",
    "from math import pi\n",
    "import scipy.sparse as sp\n",
    "import matplotlib.pyplot as plt"
   ]
  },
  {
   "cell_type": "code",
   "execution_count": null,
   "metadata": {},
   "outputs": [],
   "source": [
    "import os, json\n",
    "from scipy.integrate import simpson"
   ]
  },
  {
   "cell_type": "code",
   "execution_count": 2,
   "metadata": {},
   "outputs": [],
   "source": [
    "N=100\n",
    "R=1\n",
    "L=10\n",
    "Q_pos=10\n",
    "Q_f=0.1\n",
    "eps=0.01"
   ]
  },
  {
   "cell_type": "code",
   "execution_count": 3,
   "metadata": {},
   "outputs": [],
   "source": [
    "def infic(Q, phi, rr):\n",
    "    return Q/(((np.exp(-phi)*rr**2).sum()-np.exp(-phi[0])*rr[0]**2/2-np.exp(-phi[-1])*rr[-1]**2/2)*dr)/I_d"
   ]
  },
  {
   "cell_type": "code",
   "execution_count": 4,
   "metadata": {},
   "outputs": [],
   "source": [
    "rr = np.linspace(R, L, N)\n",
    "dr = (L-R)/N\n",
    "\n",
    "S_d=4*pi*R**2\n",
    "I_d=4*pi\n",
    "sigma_f=Q_f/S_d/eps\n",
    "\n",
    "phi0=np.ones(N)\n",
    "C0=Q_pos/(((np.exp(-phi0)*rr**2).sum()-np.exp(-phi0[0])*rr[0]**2/2-np.exp(-phi0[-1])*rr[-1]**2/2)*dr)/I_d\n",
    "\n",
    "A=sp.diags([-1, 2, -1], [-1, 0, 1], shape=(N, N))/dr**2*eps\n",
    "B=sp.diags([-np.concatenate(([0], 1/rr[1:-1])), np.concatenate((1/rr[1:-1],[0]))], [1, -1])/dr*eps\n",
    "A=A.tocsr()\n",
    "A[ 0, 0] =  eps*2/dr**2\n",
    "A[ 0, 1] = -eps*2/dr**2\n",
    "A[-1,-1] =  eps*2/dr**2\n",
    "A[-1,-2] = -eps*2/dr**2"
   ]
  },
  {
   "cell_type": "code",
   "execution_count": 5,
   "metadata": {},
   "outputs": [],
   "source": [
    "tol=1e-7\n",
    "k=0\n",
    "ep=1\n",
    "phi=phi0\n",
    "C=C0\n",
    "while(ep>tol):\n",
    "    P=C*(np.exp(-phi)+np.exp(phi))\n",
    "    F=C*(np.exp(-phi)-np.exp(phi)+(np.exp(-phi)+np.exp(phi))*phi)\n",
    "    F[0]+=(2/dr-2/R)*sigma_f*eps\n",
    "    Coeff=A+B+sp.diags(P,0)\n",
    "    phi_num=sp.linalg.spsolve(Coeff, F)\n",
    "    ep=np.abs(phi_num-phi).max()\n",
    "    C=Q_pos/(((np.exp(-phi_num)*rr**2).sum()-np.exp(-phi_num[0])*rr[0]**2/2-np.exp(-phi_num[-1])*rr[-1]**2/2)*dr)/I_d\n",
    "    phi=phi_num\n",
    "    k+=1"
   ]
  },
  {
   "cell_type": "code",
   "execution_count": 14,
   "metadata": {},
   "outputs": [],
   "source": [
    "# import os, json\n",
    "# os.system(\"../target/release/possion-boltzmann --low 1.0 --high 10.0 --interval-num 20 > fd.out\")\n",
    "# # Read the output file by line\n",
    "# with open(\"fd.out\", \"r\") as f:\n",
    "#     lines = f.readlines()\n",
    "# Split the lines into two parts\n",
    "str1, str2, _ = lines\n",
    "a = json.loads(str1)\n",
    "b = json.loads(str2)"
   ]
  },
  {
   "cell_type": "code",
   "execution_count": 15,
   "metadata": {},
   "outputs": [],
   "source": [
    "a=np.array(a)\n",
    "b=np.array(b)\n",
    "bin_range=(0.0, 10.0)\n",
    "bin_num = 20\n",
    "bins = np.linspace(bin_range[0], bin_range[1], bin_num+1)\n",
    "a /= 4*pi/3*(bins[1:]**3 - bins[:-1]**3)\n",
    "b /= 4*pi/3*(bins[1:]**3 - bins[:-1]**3)"
   ]
  },
  {
   "cell_type": "code",
   "execution_count": null,
   "metadata": {},
   "outputs": [],
   "source": []
  },
  {
   "cell_type": "code",
   "execution_count": 16,
   "metadata": {},
   "outputs": [
    {
     "data": {
      "text/plain": [
       "[<matplotlib.lines.Line2D at 0x7f2e24188850>]"
      ]
     },
     "execution_count": 16,
     "metadata": {},
     "output_type": "execute_result"
    },
    {
     "data": {
      "image/png": "[encoded data removed]",
      "text/plain": [
       "<Figure size 640x480 with 1 Axes>"
      ]
     },
     "metadata": {},
     "output_type": "display_data"
    }
   ],
   "source": [
    "midbin=(bins[:-1]+bins[1:])/2\n",
    "plt.scatter(midbin[2:],b[2:]*101)\n",
    "plt.scatter(midbin[2:],a[2:]*100)\n",
    "\n",
    "A=100\n",
    "B=21\n",
    "plt.plot(rr, (np.exp(phi)/B))\n",
    "plt.plot(rr, (np.exp(-phi)/B))"
   ]
  }
 ],
 "metadata": {
  "kernelspec": {
   "display_name": "Python 3",
   "language": "python",
   "name": "python3"
  },
  "language_info": {
   "codemirror_mode": {
    "name": "ipython",
    "version": 3
   },
   "file_extension": ".py",
   "mimetype": "text/x-python",
   "name": "python",
   "nbconvert_exporter": "python",
   "pygments_lexer": "ipython3",
   "version": "3.11.3"
  },
  "orig_nbformat": 4
 },
 "nbformat": 4,
 "nbformat_minor": 2
}
